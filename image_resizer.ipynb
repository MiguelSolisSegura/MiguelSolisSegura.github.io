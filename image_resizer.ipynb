{
 "cells": [
  {
   "cell_type": "code",
   "execution_count": 6,
   "metadata": {},
   "outputs": [],
   "source": [
    "import os\n",
    "\n",
    "def print_featured_images(folder_path=\"_projects\"):\n",
    "    img_paths = list()\n",
    "    for filename in os.listdir(folder_path):\n",
    "        file_path = os.path.join(folder_path, filename)\n",
    "        if os.path.isfile(file_path):\n",
    "            with open(file_path, 'r') as file:\n",
    "                for line in file:\n",
    "                    if \"featured_image\" in line:\n",
    "                        featured_image = line.split(\"featured_image:\", 1)[1].replace(\"'\", \"\")\n",
    "                        img_paths.append(featured_image.strip())\n",
    "                        #print(featured_image)\n",
    "                        break\n",
    "    return img_paths\n",
    "\n",
    "# Call the function to print the featured images\n",
    "img_paths = print_featured_images()\n"
   ]
  },
  {
   "cell_type": "code",
   "execution_count": 7,
   "metadata": {},
   "outputs": [
    {
     "data": {
      "text/plain": [
       "['project_data/2024-02-26-lunar-lander/policy.gif',\n",
       " 'project_data/2024-03-05-gazebo/cover.gif',\n",
       " 'project_data/2024-03-16-ros-gui/gui.gif',\n",
       " 'project_data/2024-03-20-intro-ros2-p1/cover.gif',\n",
       " 'project_data/2024-03-24-intro-ros2-p2/action.gif',\n",
       " 'project_data/2024-03-27-barista-robots-p1/barista_robot.gif',\n",
       " 'project_data/2024-03-31-barista-robots-p2/robot_chase.gif',\n",
       " 'project_data/2024-04-06-shelf-attachment/robot_shelf_cover.gif',\n",
       " 'project_data/2024-04-10-ros2-components/robot_component_cover.gif',\n",
       " 'project_data/2024-04-13-navigation-system/navigation.gif',\n",
       " 'project_data/2024-04-19-navigation-enhancements/enhanced_navigation_cover.gif',\n",
       " 'project_data/2024-04-21-moveit2-pick-place/pick_place_cover.gif',\n",
       " 'project_data/2024-04-24-moveit2-perception/pick_place_perception.gif',\n",
       " 'project_data/2024-04-28-ros2-control/ros2-control.gif',\n",
       " 'project_data/2024-05-01-rosbot-xl/motion.gif',\n",
       " 'project_data/2024-05-06-robot-control/cover.gif',\n",
       " 'project_data/2024-05-07-path-planning/cover.gif',\n",
       " 'project_data/2024-05-11-arm-kinematics/kinematics.gif',\n",
       " 'project_data/2024-05-15-tortoisebot-webapp/cover.gif',\n",
       " 'project_data/2024-05-21-tortoisebot-tests/tortoisebot_waypoint.gif',\n",
       " 'project_data/2024-05-24-tortoisebot/build.gif']"
      ]
     },
     "execution_count": 7,
     "metadata": {},
     "output_type": "execute_result"
    }
   ],
   "source": [
    "img_paths"
   ]
  },
  {
   "cell_type": "code",
   "execution_count": 24,
   "metadata": {},
   "outputs": [],
   "source": [
    "from PIL import Image\n",
    "\n",
    "def print_image_sizes(image_paths):\n",
    "    paths_to_fix = list()\n",
    "    for image_path in image_paths:\n",
    "        try:\n",
    "            with Image.open(image_path) as img:\n",
    "                width, height = img.size\n",
    "                if (width % 10 != 0) or (height % 10 != 0):\n",
    "                    paths_to_fix.append(image_path)\n",
    "                    #print(f\"Image: {image_path} - Size: {width}x{height}\")\n",
    "        except Exception as e:\n",
    "            print(f\"Could not open image {image_path}. Error: {e}\")\n",
    "    return paths_to_fix\n",
    "            \n",
    "paths_to_fix = print_image_sizes(img_paths)"
   ]
  },
  {
   "cell_type": "code",
   "execution_count": 25,
   "metadata": {},
   "outputs": [
    {
     "data": {
      "text/plain": [
       "[]"
      ]
     },
     "execution_count": 25,
     "metadata": {},
     "output_type": "execute_result"
    }
   ],
   "source": [
    "paths_to_fix"
   ]
  },
  {
   "cell_type": "code",
   "execution_count": 23,
   "metadata": {},
   "outputs": [
    {
     "name": "stdout",
     "output_type": "stream",
     "text": [
      "Resized project_data/2024-03-31-barista-robots-p2/robot_chase.gif from 609x396 to 600x390\n",
      "Resized project_data/2024-04-06-shelf-attachment/robot_shelf_cover.gif from 425x423 to 420x420\n",
      "Resized project_data/2024-04-10-ros2-components/robot_component_cover.gif from 630x438 to 630x430\n",
      "Resized project_data/2024-04-13-navigation-system/navigation.gif from 450x394 to 450x390\n",
      "Resized project_data/2024-04-19-navigation-enhancements/enhanced_navigation_cover.gif from 430x319 to 430x310\n",
      "Resized project_data/2024-04-21-moveit2-pick-place/pick_place_cover.gif from 400x293 to 400x290\n",
      "Resized project_data/2024-04-24-moveit2-perception/pick_place_perception.gif from 536x397 to 530x390\n",
      "Resized project_data/2024-04-28-ros2-control/ros2-control.gif from 479x431 to 470x430\n",
      "Resized project_data/2024-05-01-rosbot-xl/motion.gif from 551x437 to 550x430\n",
      "Resized project_data/2024-05-06-robot-control/cover.gif from 389x280 to 380x280\n",
      "Resized project_data/2024-05-07-path-planning/cover.gif from 412x415 to 410x410\n",
      "Resized project_data/2024-05-11-arm-kinematics/kinematics.gif from 412x415 to 410x410\n",
      "Resized project_data/2024-05-15-tortoisebot-webapp/cover.gif from 799x401 to 790x400\n",
      "Resized project_data/2024-05-21-tortoisebot-tests/tortoisebot_waypoint.gif from 406x326 to 400x320\n"
     ]
    },
    {
     "name": "stderr",
     "output_type": "stream",
     "text": [
      "C:\\Users\\migue\\AppData\\Local\\Temp\\ipykernel_1488\\2005053777.py:11: DeprecationWarning: ANTIALIAS is deprecated and will be removed in Pillow 10 (2023-07-01). Use Resampling.LANCZOS instead.\n",
      "  resized_img = img.resize((new_width, new_height), Image.ANTIALIAS)\n"
     ]
    }
   ],
   "source": [
    "def resize_to_nearest_10th(image_paths):\n",
    "    def round_to_nearest_10(value):\n",
    "        return (value // 10) * 10\n",
    "\n",
    "    for image_path in image_paths:\n",
    "        try:\n",
    "            with Image.open(image_path) as img:\n",
    "                original_width, original_height = img.size\n",
    "                new_width = round_to_nearest_10(original_width)\n",
    "                new_height = round_to_nearest_10(original_height)\n",
    "                resized_img = img.resize((new_width, new_height), Image.ANTIALIAS)\n",
    "                \n",
    "                # Save the resized image (overwriting the original image)\n",
    "                resized_img.save(image_path)\n",
    "                \n",
    "                print(f\"Resized {image_path} from {original_width}x{original_height} to {new_width}x{new_height}\")\n",
    "        except Exception as e:\n",
    "            print(f\"Could not open or resize image {image_path}. Error: {e}\")\n",
    "\n",
    "resize_to_nearest_10th(paths_to_fix)"
   ]
  },
  {
   "cell_type": "code",
   "execution_count": null,
   "metadata": {},
   "outputs": [],
   "source": []
  }
 ],
 "metadata": {
  "kernelspec": {
   "display_name": "DS",
   "language": "python",
   "name": "python3"
  },
  "language_info": {
   "codemirror_mode": {
    "name": "ipython",
    "version": 3
   },
   "file_extension": ".py",
   "mimetype": "text/x-python",
   "name": "python",
   "nbconvert_exporter": "python",
   "pygments_lexer": "ipython3",
   "version": "3.9.13"
  }
 },
 "nbformat": 4,
 "nbformat_minor": 2
}
